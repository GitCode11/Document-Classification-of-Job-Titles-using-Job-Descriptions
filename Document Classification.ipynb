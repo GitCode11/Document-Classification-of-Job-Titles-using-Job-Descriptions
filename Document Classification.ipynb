{
 "cells": [
  {
   "cell_type": "code",
   "execution_count": 30,
   "metadata": {},
   "outputs": [],
   "source": [
    "import nltk\n",
    "import pandas as pd\n",
    "import numpy as np\n",
    "from sklearn.model_selection import train_test_split\n",
    "from sklearn.metrics import classification_report\n",
    "import sklearn.metrics\n",
    "from pandas import DataFrame,Series\n",
    "from sklearn.feature_extraction.text import TfidfVectorizer\n",
    "from time import time\n",
    "import matplotlib.pyplot as plt\n",
    "import os\n",
    "os.chdir(os.getcwd())"
   ]
  },
  {
   "cell_type": "code",
   "execution_count": 31,
   "metadata": {},
   "outputs": [],
   "source": [
    "df=pd.read_csv('Desktop/DC/Top30.csv',sep=',')"
   ]
  },
  {
   "cell_type": "code",
   "execution_count": 32,
   "metadata": {},
   "outputs": [],
   "source": [
    "df=df[:55000] # sliced the dataset. We will be using dataset from [0,55000)"
   ]
  },
  {
   "cell_type": "code",
   "execution_count": 33,
   "metadata": {},
   "outputs": [
    {
     "data": {
      "text/html": [
       "<div>\n",
       "<style scoped>\n",
       "    .dataframe tbody tr th:only-of-type {\n",
       "        vertical-align: middle;\n",
       "    }\n",
       "\n",
       "    .dataframe tbody tr th {\n",
       "        vertical-align: top;\n",
       "    }\n",
       "\n",
       "    .dataframe thead th {\n",
       "        text-align: right;\n",
       "    }\n",
       "</style>\n",
       "<table border=\"1\" class=\"dataframe\">\n",
       "  <thead>\n",
       "    <tr style=\"text-align: right;\">\n",
       "      <th></th>\n",
       "      <th>Unnamed: 0</th>\n",
       "      <th>Unnamed: 0.1</th>\n",
       "      <th>Query</th>\n",
       "      <th>Description</th>\n",
       "    </tr>\n",
       "  </thead>\n",
       "  <tbody>\n",
       "    <tr>\n",
       "      <td>0</td>\n",
       "      <td>10</td>\n",
       "      <td>10</td>\n",
       "      <td>Administrative Assistant</td>\n",
       "      <td>This Administrative Assistant position is resp...</td>\n",
       "    </tr>\n",
       "    <tr>\n",
       "      <td>1</td>\n",
       "      <td>35</td>\n",
       "      <td>35</td>\n",
       "      <td>Administrative Assistant</td>\n",
       "      <td>ADMINISTRATIVE ASSISTANT Part Time The West Or...</td>\n",
       "    </tr>\n",
       "    <tr>\n",
       "      <td>2</td>\n",
       "      <td>140</td>\n",
       "      <td>140</td>\n",
       "      <td>Administrative Assistant</td>\n",
       "      <td>Administrative Assistant -  In Bus 26yrs Fashi...</td>\n",
       "    </tr>\n",
       "    <tr>\n",
       "      <td>3</td>\n",
       "      <td>214</td>\n",
       "      <td>214</td>\n",
       "      <td>Sales Representative</td>\n",
       "      <td>Are you ready for something new? Are you tired...</td>\n",
       "    </tr>\n",
       "    <tr>\n",
       "      <td>4</td>\n",
       "      <td>350</td>\n",
       "      <td>350</td>\n",
       "      <td>Customer Service Representative</td>\n",
       "      <td>Superior Staff Resources is currently seeking ...</td>\n",
       "    </tr>\n",
       "    <tr>\n",
       "      <td>5</td>\n",
       "      <td>375</td>\n",
       "      <td>375</td>\n",
       "      <td>Customer Service Representative</td>\n",
       "      <td>&lt;br /&gt;\\r&lt;span&gt;&lt;strong&gt;The Opportunity:&lt;/strong...</td>\n",
       "    </tr>\n",
       "    <tr>\n",
       "      <td>6</td>\n",
       "      <td>388</td>\n",
       "      <td>388</td>\n",
       "      <td>Java Developer</td>\n",
       "      <td>&lt;P&gt;&lt;STRONG&gt;As a member of the Web and Portal D...</td>\n",
       "    </tr>\n",
       "    <tr>\n",
       "      <td>7</td>\n",
       "      <td>395</td>\n",
       "      <td>395</td>\n",
       "      <td>Java Developer</td>\n",
       "      <td>&lt;BR&gt;\\r&lt;TABLE border=0 cellSpacing=0 cellPaddin...</td>\n",
       "    </tr>\n",
       "    <tr>\n",
       "      <td>8</td>\n",
       "      <td>618</td>\n",
       "      <td>618</td>\n",
       "      <td>Administrative Assistant</td>\n",
       "      <td>The main function of this role is to provide a...</td>\n",
       "    </tr>\n",
       "    <tr>\n",
       "      <td>9</td>\n",
       "      <td>650</td>\n",
       "      <td>650</td>\n",
       "      <td>Financial Analyst</td>\n",
       "      <td>Financial Analyst\\n Perform portfolio analysis...</td>\n",
       "    </tr>\n",
       "  </tbody>\n",
       "</table>\n",
       "</div>"
      ],
      "text/plain": [
       "   Unnamed: 0  Unnamed: 0.1                            Query  \\\n",
       "0          10            10         Administrative Assistant   \n",
       "1          35            35         Administrative Assistant   \n",
       "2         140           140         Administrative Assistant   \n",
       "3         214           214             Sales Representative   \n",
       "4         350           350  Customer Service Representative   \n",
       "5         375           375  Customer Service Representative   \n",
       "6         388           388                   Java Developer   \n",
       "7         395           395                   Java Developer   \n",
       "8         618           618         Administrative Assistant   \n",
       "9         650           650                Financial Analyst   \n",
       "\n",
       "                                         Description  \n",
       "0  This Administrative Assistant position is resp...  \n",
       "1  ADMINISTRATIVE ASSISTANT Part Time The West Or...  \n",
       "2  Administrative Assistant -  In Bus 26yrs Fashi...  \n",
       "3  Are you ready for something new? Are you tired...  \n",
       "4  Superior Staff Resources is currently seeking ...  \n",
       "5  <br />\\r<span><strong>The Opportunity:</strong...  \n",
       "6  <P><STRONG>As a member of the Web and Portal D...  \n",
       "7  <BR>\\r<TABLE border=0 cellSpacing=0 cellPaddin...  \n",
       "8  The main function of this role is to provide a...  \n",
       "9  Financial Analyst\\n Perform portfolio analysis...  "
      ]
     },
     "execution_count": 33,
     "metadata": {},
     "output_type": "execute_result"
    }
   ],
   "source": [
    "df.head(10)"
   ]
  },
  {
   "cell_type": "code",
   "execution_count": 34,
   "metadata": {},
   "outputs": [
    {
     "data": {
      "text/html": [
       "<div>\n",
       "<style scoped>\n",
       "    .dataframe tbody tr th:only-of-type {\n",
       "        vertical-align: middle;\n",
       "    }\n",
       "\n",
       "    .dataframe tbody tr th {\n",
       "        vertical-align: top;\n",
       "    }\n",
       "\n",
       "    .dataframe thead th {\n",
       "        text-align: right;\n",
       "    }\n",
       "</style>\n",
       "<table border=\"1\" class=\"dataframe\">\n",
       "  <thead>\n",
       "    <tr style=\"text-align: right;\">\n",
       "      <th></th>\n",
       "      <th>Unnamed: 0</th>\n",
       "      <th>Unnamed: 0.1</th>\n",
       "      <th>Query</th>\n",
       "      <th>Description</th>\n",
       "    </tr>\n",
       "  </thead>\n",
       "  <tbody>\n",
       "    <tr>\n",
       "      <td>54990</td>\n",
       "      <td>802846</td>\n",
       "      <td>802846</td>\n",
       "      <td>Jani-King Franchise Business Opportunity</td>\n",
       "      <td>&lt;p&gt;Looking to generate extra income and achiev...</td>\n",
       "    </tr>\n",
       "    <tr>\n",
       "      <td>54991</td>\n",
       "      <td>802847</td>\n",
       "      <td>802847</td>\n",
       "      <td>Jani-King Franchise Business Opportunity</td>\n",
       "      <td>&lt;p&gt;Looking to generate extra income and achiev...</td>\n",
       "    </tr>\n",
       "    <tr>\n",
       "      <td>54992</td>\n",
       "      <td>802848</td>\n",
       "      <td>802848</td>\n",
       "      <td>Jani-King Franchise Business Opportunity</td>\n",
       "      <td>&lt;p&gt;Looking to generate extra income and achiev...</td>\n",
       "    </tr>\n",
       "    <tr>\n",
       "      <td>54993</td>\n",
       "      <td>802849</td>\n",
       "      <td>802849</td>\n",
       "      <td>Jani-King Franchise Business Opportunity</td>\n",
       "      <td>&lt;p&gt;Looking to generate extra income and achiev...</td>\n",
       "    </tr>\n",
       "    <tr>\n",
       "      <td>54994</td>\n",
       "      <td>802850</td>\n",
       "      <td>802850</td>\n",
       "      <td>Jani-King Franchise Business Opportunity</td>\n",
       "      <td>&lt;p&gt;Looking to generate extra income and achiev...</td>\n",
       "    </tr>\n",
       "    <tr>\n",
       "      <td>54995</td>\n",
       "      <td>802851</td>\n",
       "      <td>802851</td>\n",
       "      <td>Jani-King Franchise Business Opportunity</td>\n",
       "      <td>&lt;p&gt;Looking to generate extra income and achiev...</td>\n",
       "    </tr>\n",
       "    <tr>\n",
       "      <td>54996</td>\n",
       "      <td>802852</td>\n",
       "      <td>802852</td>\n",
       "      <td>Jani-King Franchise Business Opportunity</td>\n",
       "      <td>&lt;p&gt;Looking to generate extra income and achiev...</td>\n",
       "    </tr>\n",
       "    <tr>\n",
       "      <td>54997</td>\n",
       "      <td>802853</td>\n",
       "      <td>802853</td>\n",
       "      <td>Jani-King Franchise Business Opportunity</td>\n",
       "      <td>&lt;p&gt;Looking to generate extra income and achiev...</td>\n",
       "    </tr>\n",
       "    <tr>\n",
       "      <td>54998</td>\n",
       "      <td>802854</td>\n",
       "      <td>802854</td>\n",
       "      <td>Jani-King Franchise Business Opportunity</td>\n",
       "      <td>&lt;p&gt;Looking to generate extra income and achiev...</td>\n",
       "    </tr>\n",
       "    <tr>\n",
       "      <td>54999</td>\n",
       "      <td>802855</td>\n",
       "      <td>802855</td>\n",
       "      <td>Jani-King Franchise Business Opportunity</td>\n",
       "      <td>&lt;p&gt;Looking to generate extra income and achiev...</td>\n",
       "    </tr>\n",
       "  </tbody>\n",
       "</table>\n",
       "</div>"
      ],
      "text/plain": [
       "       Unnamed: 0  Unnamed: 0.1                                     Query  \\\n",
       "54990      802846        802846  Jani-King Franchise Business Opportunity   \n",
       "54991      802847        802847  Jani-King Franchise Business Opportunity   \n",
       "54992      802848        802848  Jani-King Franchise Business Opportunity   \n",
       "54993      802849        802849  Jani-King Franchise Business Opportunity   \n",
       "54994      802850        802850  Jani-King Franchise Business Opportunity   \n",
       "54995      802851        802851  Jani-King Franchise Business Opportunity   \n",
       "54996      802852        802852  Jani-King Franchise Business Opportunity   \n",
       "54997      802853        802853  Jani-King Franchise Business Opportunity   \n",
       "54998      802854        802854  Jani-King Franchise Business Opportunity   \n",
       "54999      802855        802855  Jani-King Franchise Business Opportunity   \n",
       "\n",
       "                                             Description  \n",
       "54990  <p>Looking to generate extra income and achiev...  \n",
       "54991  <p>Looking to generate extra income and achiev...  \n",
       "54992  <p>Looking to generate extra income and achiev...  \n",
       "54993  <p>Looking to generate extra income and achiev...  \n",
       "54994  <p>Looking to generate extra income and achiev...  \n",
       "54995  <p>Looking to generate extra income and achiev...  \n",
       "54996  <p>Looking to generate extra income and achiev...  \n",
       "54997  <p>Looking to generate extra income and achiev...  \n",
       "54998  <p>Looking to generate extra income and achiev...  \n",
       "54999  <p>Looking to generate extra income and achiev...  "
      ]
     },
     "execution_count": 34,
     "metadata": {},
     "output_type": "execute_result"
    }
   ],
   "source": [
    "df.tail(10)"
   ]
  },
  {
   "cell_type": "code",
   "execution_count": 35,
   "metadata": {},
   "outputs": [
    {
     "name": "stdout",
     "output_type": "stream",
     "text": [
      "The data-set has 55000 rows and 4 columns\n"
     ]
    }
   ],
   "source": [
    "print(\"The data-set has %d rows and %d columns\"%(df.shape[0],df.shape[1]))"
   ]
  },
  {
   "cell_type": "code",
   "execution_count": 36,
   "metadata": {},
   "outputs": [
    {
     "name": "stdout",
     "output_type": "stream",
     "text": [
      "Index(['Unnamed: 0', 'Unnamed: 0.1', 'Query', 'Description'], dtype='object')\n",
      "Unnamed: 0: 0\n",
      "Unnamed: 0.1: 0\n",
      "Query: 0\n",
      "Description: 0\n"
     ]
    }
   ],
   "source": [
    "# Finding Missing Values (if any exists)\n",
    "print(df.columns) \n",
    "\n",
    "for col_name in df.columns:\n",
    "    print (col_name,end=\": \")\n",
    "    print (sum(df[col_name].isnull()))"
   ]
  },
  {
   "cell_type": "code",
   "execution_count": 37,
   "metadata": {},
   "outputs": [],
   "source": [
    "# no missing value found in any column"
   ]
  },
  {
   "cell_type": "code",
   "execution_count": 38,
   "metadata": {},
   "outputs": [],
   "source": [
    "jobs_df=pd.read_csv('Desktop/DC/Top30.csv',index_col=False,na_values='',na_filter=True,usecols=['Query', 'Description'])\n",
    "#dropped the unnecessary columns\n",
    "jobs_df=jobs_df[:55000]"
   ]
  },
  {
   "cell_type": "code",
   "execution_count": 39,
   "metadata": {},
   "outputs": [
    {
     "data": {
      "text/html": [
       "<div>\n",
       "<style scoped>\n",
       "    .dataframe tbody tr th:only-of-type {\n",
       "        vertical-align: middle;\n",
       "    }\n",
       "\n",
       "    .dataframe tbody tr th {\n",
       "        vertical-align: top;\n",
       "    }\n",
       "\n",
       "    .dataframe thead th {\n",
       "        text-align: right;\n",
       "    }\n",
       "</style>\n",
       "<table border=\"1\" class=\"dataframe\">\n",
       "  <thead>\n",
       "    <tr style=\"text-align: right;\">\n",
       "      <th></th>\n",
       "      <th>Query</th>\n",
       "      <th>Description</th>\n",
       "    </tr>\n",
       "  </thead>\n",
       "  <tbody>\n",
       "    <tr>\n",
       "      <td>0</td>\n",
       "      <td>Administrative Assistant</td>\n",
       "      <td>This Administrative Assistant position is resp...</td>\n",
       "    </tr>\n",
       "    <tr>\n",
       "      <td>1</td>\n",
       "      <td>Administrative Assistant</td>\n",
       "      <td>ADMINISTRATIVE ASSISTANT Part Time The West Or...</td>\n",
       "    </tr>\n",
       "    <tr>\n",
       "      <td>2</td>\n",
       "      <td>Administrative Assistant</td>\n",
       "      <td>Administrative Assistant -  In Bus 26yrs Fashi...</td>\n",
       "    </tr>\n",
       "    <tr>\n",
       "      <td>3</td>\n",
       "      <td>Sales Representative</td>\n",
       "      <td>Are you ready for something new? Are you tired...</td>\n",
       "    </tr>\n",
       "    <tr>\n",
       "      <td>4</td>\n",
       "      <td>Customer Service Representative</td>\n",
       "      <td>Superior Staff Resources is currently seeking ...</td>\n",
       "    </tr>\n",
       "  </tbody>\n",
       "</table>\n",
       "</div>"
      ],
      "text/plain": [
       "                             Query  \\\n",
       "0         Administrative Assistant   \n",
       "1         Administrative Assistant   \n",
       "2         Administrative Assistant   \n",
       "3             Sales Representative   \n",
       "4  Customer Service Representative   \n",
       "\n",
       "                                         Description  \n",
       "0  This Administrative Assistant position is resp...  \n",
       "1  ADMINISTRATIVE ASSISTANT Part Time The West Or...  \n",
       "2  Administrative Assistant -  In Bus 26yrs Fashi...  \n",
       "3  Are you ready for something new? Are you tired...  \n",
       "4  Superior Staff Resources is currently seeking ...  "
      ]
     },
     "execution_count": 39,
     "metadata": {},
     "output_type": "execute_result"
    }
   ],
   "source": [
    "jobs_df.head()"
   ]
  },
  {
   "cell_type": "code",
   "execution_count": 44,
   "metadata": {},
   "outputs": [
    {
     "data": {
      "text/html": [
       "<div>\n",
       "<style scoped>\n",
       "    .dataframe tbody tr th:only-of-type {\n",
       "        vertical-align: middle;\n",
       "    }\n",
       "\n",
       "    .dataframe tbody tr th {\n",
       "        vertical-align: top;\n",
       "    }\n",
       "\n",
       "    .dataframe thead th {\n",
       "        text-align: right;\n",
       "    }\n",
       "</style>\n",
       "<table border=\"1\" class=\"dataframe\">\n",
       "  <thead>\n",
       "    <tr style=\"text-align: right;\">\n",
       "      <th></th>\n",
       "      <th>Query</th>\n",
       "      <th>Description</th>\n",
       "    </tr>\n",
       "  </thead>\n",
       "  <tbody>\n",
       "    <tr>\n",
       "      <td>count</td>\n",
       "      <td>55000</td>\n",
       "      <td>55000</td>\n",
       "    </tr>\n",
       "    <tr>\n",
       "      <td>unique</td>\n",
       "      <td>30</td>\n",
       "      <td>23583</td>\n",
       "    </tr>\n",
       "    <tr>\n",
       "      <td>top</td>\n",
       "      <td>Own Your Own Franchise!</td>\n",
       "      <td>&lt;p&gt;Compared to other franchise opportunities i...</td>\n",
       "    </tr>\n",
       "    <tr>\n",
       "      <td>freq</td>\n",
       "      <td>3701</td>\n",
       "      <td>3701</td>\n",
       "    </tr>\n",
       "  </tbody>\n",
       "</table>\n",
       "</div>"
      ],
      "text/plain": [
       "                          Query  \\\n",
       "count                     55000   \n",
       "unique                       30   \n",
       "top     Own Your Own Franchise!   \n",
       "freq                       3701   \n",
       "\n",
       "                                              Description  \n",
       "count                                               55000  \n",
       "unique                                              23583  \n",
       "top     <p>Compared to other franchise opportunities i...  \n",
       "freq                                                 3701  "
      ]
     },
     "execution_count": 44,
     "metadata": {},
     "output_type": "execute_result"
    }
   ],
   "source": [
    "jobs_df.describe(include='all')"
   ]
  },
  {
   "cell_type": "code",
   "execution_count": 45,
   "metadata": {},
   "outputs": [],
   "source": [
    "# So 30 different classes are present in the dataset"
   ]
  },
  {
   "cell_type": "code",
   "execution_count": 46,
   "metadata": {},
   "outputs": [
    {
     "data": {
      "text/plain": [
       "31400"
      ]
     },
     "execution_count": 46,
     "metadata": {},
     "output_type": "execute_result"
    }
   ],
   "source": [
    "sum(jobs_df.duplicated()) #31400 rows are duplicate"
   ]
  },
  {
   "cell_type": "code",
   "execution_count": 47,
   "metadata": {},
   "outputs": [
    {
     "name": "stderr",
     "output_type": "stream",
     "text": [
      "C:\\Users\\Sagar\\Anaconda3\\lib\\site-packages\\ipykernel_launcher.py:1: FutureWarning: \n",
      ".ix is deprecated. Please use\n",
      ".loc for label based indexing or\n",
      ".iloc for positional indexing\n",
      "\n",
      "See the documentation here:\n",
      "http://pandas.pydata.org/pandas-docs/stable/user_guide/indexing.html#ix-indexer-is-deprecated\n",
      "  \"\"\"Entry point for launching an IPython kernel.\n"
     ]
    },
    {
     "data": {
      "text/html": [
       "<div>\n",
       "<style scoped>\n",
       "    .dataframe tbody tr th:only-of-type {\n",
       "        vertical-align: middle;\n",
       "    }\n",
       "\n",
       "    .dataframe tbody tr th {\n",
       "        vertical-align: top;\n",
       "    }\n",
       "\n",
       "    .dataframe thead th {\n",
       "        text-align: right;\n",
       "    }\n",
       "</style>\n",
       "<table border=\"1\" class=\"dataframe\">\n",
       "  <thead>\n",
       "    <tr style=\"text-align: right;\">\n",
       "      <th></th>\n",
       "      <th>Query</th>\n",
       "      <th>Description</th>\n",
       "    </tr>\n",
       "  </thead>\n",
       "  <tbody>\n",
       "    <tr>\n",
       "      <td>33</td>\n",
       "      <td>Sales Representative</td>\n",
       "      <td>&lt;center&gt;&lt;strong&gt;SALES REPRESENTATIVE&lt;/strong&gt;&lt;...</td>\n",
       "    </tr>\n",
       "    <tr>\n",
       "      <td>87</td>\n",
       "      <td>Maintenance Technician</td>\n",
       "      <td>&lt;DIV&gt;\\r&lt;P&gt;&lt;B&gt;Summary&lt;/B&gt; Performs the regular ...</td>\n",
       "    </tr>\n",
       "    <tr>\n",
       "      <td>324</td>\n",
       "      <td>Sales Representative / Account Manager /  Cust...</td>\n",
       "      <td>&lt;p&gt;If you are a confident and highly motivated...</td>\n",
       "    </tr>\n",
       "    <tr>\n",
       "      <td>325</td>\n",
       "      <td>Sales Representative / Account Manager /  Cust...</td>\n",
       "      <td>&lt;p&gt;If you are a confident and highly motivated...</td>\n",
       "    </tr>\n",
       "    <tr>\n",
       "      <td>326</td>\n",
       "      <td>Sales Representative / Account Manager /  Cust...</td>\n",
       "      <td>&lt;p&gt;If you are a confident and highly motivated...</td>\n",
       "    </tr>\n",
       "    <tr>\n",
       "      <td>...</td>\n",
       "      <td>...</td>\n",
       "      <td>...</td>\n",
       "    </tr>\n",
       "    <tr>\n",
       "      <td>54995</td>\n",
       "      <td>Jani-King Franchise Business Opportunity</td>\n",
       "      <td>&lt;p&gt;Looking to generate extra income and achiev...</td>\n",
       "    </tr>\n",
       "    <tr>\n",
       "      <td>54996</td>\n",
       "      <td>Jani-King Franchise Business Opportunity</td>\n",
       "      <td>&lt;p&gt;Looking to generate extra income and achiev...</td>\n",
       "    </tr>\n",
       "    <tr>\n",
       "      <td>54997</td>\n",
       "      <td>Jani-King Franchise Business Opportunity</td>\n",
       "      <td>&lt;p&gt;Looking to generate extra income and achiev...</td>\n",
       "    </tr>\n",
       "    <tr>\n",
       "      <td>54998</td>\n",
       "      <td>Jani-King Franchise Business Opportunity</td>\n",
       "      <td>&lt;p&gt;Looking to generate extra income and achiev...</td>\n",
       "    </tr>\n",
       "    <tr>\n",
       "      <td>54999</td>\n",
       "      <td>Jani-King Franchise Business Opportunity</td>\n",
       "      <td>&lt;p&gt;Looking to generate extra income and achiev...</td>\n",
       "    </tr>\n",
       "  </tbody>\n",
       "</table>\n",
       "<p>31417 rows × 2 columns</p>\n",
       "</div>"
      ],
      "text/plain": [
       "                                                   Query  \\\n",
       "33                                  Sales Representative   \n",
       "87                                Maintenance Technician   \n",
       "324    Sales Representative / Account Manager /  Cust...   \n",
       "325    Sales Representative / Account Manager /  Cust...   \n",
       "326    Sales Representative / Account Manager /  Cust...   \n",
       "...                                                  ...   \n",
       "54995           Jani-King Franchise Business Opportunity   \n",
       "54996           Jani-King Franchise Business Opportunity   \n",
       "54997           Jani-King Franchise Business Opportunity   \n",
       "54998           Jani-King Franchise Business Opportunity   \n",
       "54999           Jani-King Franchise Business Opportunity   \n",
       "\n",
       "                                             Description  \n",
       "33     <center><strong>SALES REPRESENTATIVE</strong><...  \n",
       "87     <DIV>\\r<P><B>Summary</B> Performs the regular ...  \n",
       "324    <p>If you are a confident and highly motivated...  \n",
       "325    <p>If you are a confident and highly motivated...  \n",
       "326    <p>If you are a confident and highly motivated...  \n",
       "...                                                  ...  \n",
       "54995  <p>Looking to generate extra income and achiev...  \n",
       "54996  <p>Looking to generate extra income and achiev...  \n",
       "54997  <p>Looking to generate extra income and achiev...  \n",
       "54998  <p>Looking to generate extra income and achiev...  \n",
       "54999  <p>Looking to generate extra income and achiev...  \n",
       "\n",
       "[31417 rows x 2 columns]"
      ]
     },
     "execution_count": 47,
     "metadata": {},
     "output_type": "execute_result"
    }
   ],
   "source": [
    "jobs_df.ix[jobs_df.duplicated(subset=\"Description\",keep='first')]\n",
    "# subset implies which column to be taken as judging criteria for finding duplicates by default all\n",
    "# keep -first,last,false  first occurence and then remove duplicates after that"
   ]
  },
  {
   "cell_type": "code",
   "execution_count": 48,
   "metadata": {},
   "outputs": [],
   "source": [
    "jobs_df2=jobs_df.drop_duplicates()"
   ]
  },
  {
   "cell_type": "code",
   "execution_count": 49,
   "metadata": {},
   "outputs": [
    {
     "name": "stdout",
     "output_type": "stream",
     "text": [
      "0\n"
     ]
    },
    {
     "data": {
      "text/plain": [
       "(23600, 2)"
      ]
     },
     "execution_count": 49,
     "metadata": {},
     "output_type": "execute_result"
    }
   ],
   "source": [
    "print(sum(jobs_df2.duplicated())) #now verifying whether there are still duplicate values in our dataframe or not\n",
    "jobs_df2.shape # new shape after removing duplication"
   ]
  },
  {
   "cell_type": "code",
   "execution_count": 50,
   "metadata": {},
   "outputs": [],
   "source": [
    "category_counter={x:0 for x in set(jobs_df2['Query'])}  # used 'set' as set doesn't store duplicate values hence only unique categories are stored"
   ]
  },
  {
   "cell_type": "code",
   "execution_count": 51,
   "metadata": {},
   "outputs": [],
   "source": [
    "for each_cat in jobs_df2['Query']:\n",
    "    category_counter[each_cat]+=1"
   ]
  },
  {
   "cell_type": "code",
   "execution_count": 52,
   "metadata": {},
   "outputs": [
    {
     "name": "stdout",
     "output_type": "stream",
     "text": [
      "{'Financial Analyst': 1241, 'Sales Representative / Account Manager /  Customer Service': 2, 'Restaurant Manager': 685, 'Customer Service Representative': 2516, 'Project Manager': 1971, 'Java Developer': 944, 'Physical Therapist': 581, 'Inside Sales Representative': 688, 'Cashier': 128, 'Store Manager': 761, 'Sales / Franchise': 12, 'Mobile Tool Sales / Franchise Distributor': 3, 'Own Your Own Franchise!': 1, 'Account Executive': 829, 'Customer Service - Sales Representative - Part Time Work': 3, 'Staff Accountant': 2043, 'Benefits Consultant': 9, 'Executive Assistant': 1114, 'Business Analyst': 1460, 'Sales Representative': 1147, 'Receptionist': 1084, 'Sales Management Trainee': 52, 'Maintenance Technician': 1196, 'Senior Accountant': 1547, 'Retail Sales Associate': 426, 'Account Representative': 123, 'Administrative Assistant': 2998, 'Sales / Customer Service – Part or Full time – Summer Work': 2, 'Jani-King Franchise Business Opportunity': 10, 'Retail Wireless Sales Consultant': 24}\n"
     ]
    }
   ],
   "source": [
    "print(category_counter)   # list of distinct categories in whole dataset\n",
    "ylab=[]\n",
    "for val in category_counter.values():\n",
    "    ylab.append(val)\n",
    "xlab=[]\n",
    "for key in category_counter.keys():\n",
    "    xlab.append(key)"
   ]
  },
  {
   "cell_type": "code",
   "execution_count": 53,
   "metadata": {},
   "outputs": [
    {
     "data": {
      "image/png": "[encoded data removed]",
      "text/plain": [
       "<Figure size 1152x504 with 1 Axes>"
      ]
     },
     "metadata": {
      "needs_background": "light"
     },
     "output_type": "display_data"
    }
   ],
   "source": [
    "%matplotlib inline\n",
    "plt.figure(figsize=(16,7))\n",
    "plt.style.use(\"seaborn\")\n",
    "ypos=np.arange(len(xlab))\n",
    "plt.xticks(ypos,xlab,rotation=90)\n",
    "plt.xlabel('Categories')\n",
    "plt.ylabel('No. of candidates',fontsize=12)\n",
    "plt.bar(ypos,ylab,edgecolor='black',linewidth=1.5)\n",
    "plt.show()"
   ]
  },
  {
   "cell_type": "code",
   "execution_count": 54,
   "metadata": {},
   "outputs": [],
   "source": [
    "corpus=jobs_df2.Description"
   ]
  },
  {
   "cell_type": "code",
   "execution_count": 55,
   "metadata": {},
   "outputs": [],
   "source": [
    "all_words=[w.split() for w in corpus]\n",
    "\n",
    "all_flat_words=[ewords for words in all_words for ewords in words]\n",
    "\n",
    "from nltk.corpus import stopwords\n",
    "\n",
    "all_flat_words_ns=[w for w in all_flat_words if w not in stopwords.words(\"english\")]\n",
    "#removing all the stop words from the corpus\n",
    "\n",
    "set_nf=set(all_flat_words_ns)"
   ]
  },
  {
   "cell_type": "code",
   "execution_count": 56,
   "metadata": {},
   "outputs": [
    {
     "name": "stdout",
     "output_type": "stream",
     "text": [
      "Number of unique vocabulary words in the Description column of the dataframe: 272143\n"
     ]
    }
   ],
   "source": [
    "print(\"Number of unique vocabulary words in the Description column of the dataframe: %d\"%len(set_nf))"
   ]
  },
  {
   "cell_type": "code",
   "execution_count": 57,
   "metadata": {},
   "outputs": [
    {
     "name": "stderr",
     "output_type": "stream",
     "text": [
      "C:\\Users\\Sagar\\Anaconda3\\lib\\site-packages\\pandas\\core\\indexing.py:376: SettingWithCopyWarning: \n",
      "A value is trying to be set on a copy of a slice from a DataFrame.\n",
      "Try using .loc[row_indexer,col_indexer] = value instead\n",
      "\n",
      "See the caveats in the documentation: http://pandas.pydata.org/pandas-docs/stable/user_guide/indexing.html#returning-a-view-versus-a-copy\n",
      "  self.obj[key] = _infer_fill_value(value)\n",
      "C:\\Users\\Sagar\\Anaconda3\\lib\\site-packages\\pandas\\core\\indexing.py:494: SettingWithCopyWarning: \n",
      "A value is trying to be set on a copy of a slice from a DataFrame.\n",
      "Try using .loc[row_indexer,col_indexer] = value instead\n",
      "\n",
      "See the caveats in the documentation: http://pandas.pydata.org/pandas-docs/stable/user_guide/indexing.html#returning-a-view-versus-a-copy\n",
      "  self.obj[item] = s\n",
      "C:\\Users\\Sagar\\Anaconda3\\lib\\site-packages\\pandas\\core\\indexing.py:205: SettingWithCopyWarning: \n",
      "A value is trying to be set on a copy of a slice from a DataFrame\n",
      "\n",
      "See the caveats in the documentation: http://pandas.pydata.org/pandas-docs/stable/user_guide/indexing.html#returning-a-view-versus-a-copy\n",
      "  self._setitem_with_indexer(indexer, value)\n",
      "C:\\Users\\Sagar\\Anaconda3\\lib\\site-packages\\ipykernel_launcher.py:7: SettingWithCopyWarning: \n",
      "A value is trying to be set on a copy of a slice from a DataFrame\n",
      "\n",
      "See the caveats in the documentation: http://pandas.pydata.org/pandas-docs/stable/user_guide/indexing.html#returning-a-view-versus-a-copy\n",
      "  import sys\n"
     ]
    }
   ],
   "source": [
    "porter=nltk.PorterStemmer()\n",
    "for each_row in jobs_df2.itertuples():\n",
    "    m1=map(lambda x: x,(each_row[1]+' '+each_row[2]).lower().split())\n",
    "    #for each row, it gets title and job description, concatenates them and converts them to lower case.\n",
    "    m2=map(lambda x: porter.stem(x),m1)\n",
    "    #Using Porter Stemmer in NLTK, stemming is performed on the str created in previous step.\n",
    "    jobs_df2.loc[each_row[0],'query_desc']=' '.join(m2)\n",
    "    #a derived column is created and the pre-processed string is stored in that column for each row."
   ]
  },
  {
   "cell_type": "code",
   "execution_count": 58,
   "metadata": {},
   "outputs": [
    {
     "data": {
      "text/html": [
       "<div>\n",
       "<style scoped>\n",
       "    .dataframe tbody tr th:only-of-type {\n",
       "        vertical-align: middle;\n",
       "    }\n",
       "\n",
       "    .dataframe tbody tr th {\n",
       "        vertical-align: top;\n",
       "    }\n",
       "\n",
       "    .dataframe thead th {\n",
       "        text-align: right;\n",
       "    }\n",
       "</style>\n",
       "<table border=\"1\" class=\"dataframe\">\n",
       "  <thead>\n",
       "    <tr style=\"text-align: right;\">\n",
       "      <th></th>\n",
       "      <th>Query</th>\n",
       "      <th>Description</th>\n",
       "      <th>query_desc</th>\n",
       "    </tr>\n",
       "  </thead>\n",
       "  <tbody>\n",
       "    <tr>\n",
       "      <td>0</td>\n",
       "      <td>Administrative Assistant</td>\n",
       "      <td>This Administrative Assistant position is resp...</td>\n",
       "      <td>administr assist thi administr assist posit is...</td>\n",
       "    </tr>\n",
       "    <tr>\n",
       "      <td>1</td>\n",
       "      <td>Administrative Assistant</td>\n",
       "      <td>ADMINISTRATIVE ASSISTANT Part Time The West Or...</td>\n",
       "      <td>administr assist administr assist part time th...</td>\n",
       "    </tr>\n",
       "    <tr>\n",
       "      <td>2</td>\n",
       "      <td>Administrative Assistant</td>\n",
       "      <td>Administrative Assistant -  In Bus 26yrs Fashi...</td>\n",
       "      <td>administr assist administr assist - in bu 26yr...</td>\n",
       "    </tr>\n",
       "    <tr>\n",
       "      <td>3</td>\n",
       "      <td>Sales Representative</td>\n",
       "      <td>Are you ready for something new? Are you tired...</td>\n",
       "      <td>sale repres are you readi for someth new? are ...</td>\n",
       "    </tr>\n",
       "    <tr>\n",
       "      <td>4</td>\n",
       "      <td>Customer Service Representative</td>\n",
       "      <td>Superior Staff Resources is currently seeking ...</td>\n",
       "      <td>custom servic repres superior staff resourc is...</td>\n",
       "    </tr>\n",
       "  </tbody>\n",
       "</table>\n",
       "</div>"
      ],
      "text/plain": [
       "                             Query  \\\n",
       "0         Administrative Assistant   \n",
       "1         Administrative Assistant   \n",
       "2         Administrative Assistant   \n",
       "3             Sales Representative   \n",
       "4  Customer Service Representative   \n",
       "\n",
       "                                         Description  \\\n",
       "0  This Administrative Assistant position is resp...   \n",
       "1  ADMINISTRATIVE ASSISTANT Part Time The West Or...   \n",
       "2  Administrative Assistant -  In Bus 26yrs Fashi...   \n",
       "3  Are you ready for something new? Are you tired...   \n",
       "4  Superior Staff Resources is currently seeking ...   \n",
       "\n",
       "                                          query_desc  \n",
       "0  administr assist thi administr assist posit is...  \n",
       "1  administr assist administr assist part time th...  \n",
       "2  administr assist administr assist - in bu 26yr...  \n",
       "3  sale repres are you readi for someth new? are ...  \n",
       "4  custom servic repres superior staff resourc is...  "
      ]
     },
     "execution_count": 58,
     "metadata": {},
     "output_type": "execute_result"
    }
   ],
   "source": [
    "#to confirm if we have successfully completed the transformation:\n",
    "jobs_df2.head()\n",
    "#it can be seen that a new column is created and filled with the stemmed words comprised of data concatenated from title and desc\n",
    "#columns of the data frame. This newly created column will become our corpus for subsequent feature extraction process."
   ]
  },
  {
   "cell_type": "code",
   "execution_count": 59,
   "metadata": {},
   "outputs": [],
   "source": [
    "corpus=jobs_df2.query_desc\n",
    "vectorizer = TfidfVectorizer(stop_words='english')\n",
    "#Initializing TFIDF vectorizer to convert the raw corpus to a matrix of TFIDF features and also enabling the removal of stopwords.\n",
    "tfidf_matrix=vectorizer.fit_transform(corpus).todense()\n",
    "#creating TFIDF features sparse matrix by fitting it on the specified corpus. \n",
    "tfidf_names=vectorizer.get_feature_names()\n",
    "#grabbing the name of the features."
   ]
  },
  {
   "cell_type": "code",
   "execution_count": 60,
   "metadata": {},
   "outputs": [
    {
     "name": "stdout",
     "output_type": "stream",
     "text": [
      "Number of TFIDF Features: 42113\n"
     ]
    }
   ],
   "source": [
    "print(\"Number of TFIDF Features: %d\"%len(tfidf_names))"
   ]
  },
  {
   "cell_type": "code",
   "execution_count": 61,
   "metadata": {},
   "outputs": [],
   "source": [
    "#which shows that there are 42113 columns that will be used for training the classifier. These are much smaller than the total\n",
    "#number of unique vocabulary words that are there (272143) in the text description column alone."
   ]
  },
  {
   "cell_type": "code",
   "execution_count": 62,
   "metadata": {},
   "outputs": [],
   "source": [
    "training_time_container={'b_naive_bayes':0,'mn_naive_bayes':0,'random_forest':0,'linear_svm':0}\n",
    "prediction_time_container={'b_naive_bayes':0,'mn_naive_bayes':0,'random_forest':0,'linear_svm':0}\n",
    "accuracy_container={'b_naive_bayes':0,'mn_naive_bayes':0,'random_forest':0,'linear_svm':0}"
   ]
  },
  {
   "cell_type": "code",
   "execution_count": 63,
   "metadata": {},
   "outputs": [],
   "source": [
    "variables=tfidf_matrix\n",
    "#considering the TFIDF features as independent variables to be input to the classifier.\n",
    "labels=jobs_df2.Query\n",
    "#considering the category values as the class labels for the classifier.\n",
    "\n",
    "variables_train,variables_test,labels_train,labels_test=train_test_split(variables,labels,test_size=.2)\n",
    "#splitting the data into random training and test sets for both independent variables and labels."
   ]
  },
  {
   "cell_type": "code",
   "execution_count": 64,
   "metadata": {},
   "outputs": [
    {
     "name": "stdout",
     "output_type": "stream",
     "text": [
      "Shape of Training Data: (18880, 42113)\n",
      "Shape of Test Data: (4720, 42113)\n"
     ]
    }
   ],
   "source": [
    "#analyzing the shape of the training and test data-set:\n",
    "print('Shape of Training Data: '+str(variables_train.shape))\n",
    "print('Shape of Test Data: '+str(variables_test.shape))"
   ]
  },
  {
   "cell_type": "code",
   "execution_count": 65,
   "metadata": {},
   "outputs": [],
   "source": [
    "#Applying Bernoulli Naive Bayes"
   ]
  },
  {
   "cell_type": "code",
   "execution_count": 66,
   "metadata": {},
   "outputs": [
    {
     "data": {
      "text/plain": [
       "dict_keys(['b_naive_bayes', 'mn_naive_bayes', 'random_forest', 'linear_svm'])"
      ]
     },
     "execution_count": 66,
     "metadata": {},
     "output_type": "execute_result"
    }
   ],
   "source": [
    "training_time_container.keys()"
   ]
  },
  {
   "cell_type": "code",
   "execution_count": 67,
   "metadata": {},
   "outputs": [],
   "source": [
    "from sklearn.naive_bayes import BernoulliNB\n",
    "#loading Gaussian Naive Bayes from the sklearn library\n",
    "bnb_classifier=BernoulliNB()\n",
    "#initializing the object\n",
    "t0=time()\n",
    "bnb_classifier=bnb_classifier.fit(variables_train,labels_train)\n",
    "training_time_container['b_naive_bayes']=time()-t0\n",
    "#fitting the classifier or training the classifier on the training data"
   ]
  },
  {
   "cell_type": "code",
   "execution_count": 68,
   "metadata": {},
   "outputs": [],
   "source": [
    "#after the model has been trained, we proceed to test its performance on the test data:\n",
    "t0=time()\n",
    "bnb_predictions=bnb_classifier.predict(variables_test)\n",
    "prediction_time_container['b_naive_bayes']=time()-t0"
   ]
  },
  {
   "cell_type": "code",
   "execution_count": 69,
   "metadata": {},
   "outputs": [
    {
     "data": {
      "text/plain": [
       "7.856662034988403"
      ]
     },
     "execution_count": 69,
     "metadata": {},
     "output_type": "execute_result"
    }
   ],
   "source": [
    "prediction_time_container['b_naive_bayes']"
   ]
  },
  {
   "cell_type": "code",
   "execution_count": 70,
   "metadata": {},
   "outputs": [],
   "source": [
    "#the trained classifier has been used to make predictions on the test data-set. To evaluate the performance of the model,\n",
    "#there are a number of metrics that can be used as follows:\n",
    "nb_ascore=sklearn.metrics.accuracy_score(labels_test, bnb_predictions)\n",
    "accuracy_container['b_naive_bayes']=nb_ascore"
   ]
  },
  {
   "cell_type": "code",
   "execution_count": 71,
   "metadata": {},
   "outputs": [
    {
     "name": "stdout",
     "output_type": "stream",
     "text": [
      "Bernoulli Naive Bayes Accuracy Score: 0.718008\n",
      "Training Time: 147.623469\n",
      "Prediction Time: 7.856662\n"
     ]
    }
   ],
   "source": [
    "print(\"Bernoulli Naive Bayes Accuracy Score: %f\"%accuracy_container['b_naive_bayes'])\n",
    "print(\"Training Time: %f\"%training_time_container['b_naive_bayes'])\n",
    "print(\"Prediction Time: %f\"%prediction_time_container['b_naive_bayes'])"
   ]
  },
  {
   "cell_type": "code",
   "execution_count": 72,
   "metadata": {},
   "outputs": [
    {
     "name": "stdout",
     "output_type": "stream",
     "text": [
      "Confusion Matrix of Bernoulli Naive Bayes Classifier output: \n"
     ]
    },
    {
     "data": {
      "text/plain": [
       "array([[ 96,   0,  12,   0,   0,   0,   6,   0,   0,   0,   0,   0,   0,\n",
       "         11,   0,   0,   0,   0,   0,   0,  27,   0,   0,   4,   0],\n",
       "       [  1,   0,   0,   0,   0,   0,   8,   0,   0,   0,   0,   0,   0,\n",
       "          0,   0,   0,   0,   0,   0,   0,  14,   0,   0,   1,   0],\n",
       "       [  1,   0, 595,   0,   1,   0,  11,  24,   0,   0,   1,   2,   0,\n",
       "          1,   0,   0,   0,   0,   0,   0,   1,   0,   0,   0,   0],\n",
       "       [  0,   0,   0,   0,   0,   0,   0,   0,   0,   0,   0,   0,   0,\n",
       "          1,   0,   0,   0,   0,   0,   0,   2,   0,   0,   0,   0],\n",
       "       [  0,   0,  10,   0, 217,   0,   2,   0,  15,   0,   2,   0,   0,\n",
       "         18,   0,   0,   0,   0,   0,   0,   1,   0,   3,  28,   0],\n",
       "       [  0,   0,   4,   0,   0,   0,  17,   0,   0,   0,   0,   0,   0,\n",
       "          1,   3,   1,   0,   0,   0,   0,   0,   0,   0,   6,   0],\n",
       "       [  0,   0,  10,   0,   0,   0, 424,   0,   0,   0,   0,   0,   0,\n",
       "          2,   1,   0,   0,   0,   0,   0,   2,   0,   0,   2,  46],\n",
       "       [  0,   0, 165,   0,   0,   0,   0,  59,   0,   0,   0,   0,   0,\n",
       "          6,   0,   0,   0,   0,   0,   0,   0,   0,   2,   0,   0],\n",
       "       [  0,   0,   0,   0,   5,   0,   3,   0, 134,   0,   0,   0,   0,\n",
       "          4,   0,   0,   0,   0,   0,   0,   0,   0,  11,  71,   0],\n",
       "       [  5,   0,   3,   0,   0,   0,  62,   0,   0,  29,   0,   0,   0,\n",
       "          1,   0,   0,   0,   0,   0,   0,  60,   0,   0,   1,   0],\n",
       "       [  0,   0,   3,   0,   8,   0,   1,   0,   0,   0, 138,   0,   0,\n",
       "          7,   0,   0,   0,   0,   0,   0,   0,   0,   1,  14,   0],\n",
       "       [  0,   0,  11,   0,   0,   0,   1,   0,   0,   0,   0, 212,   0,\n",
       "          0,   1,   0,   0,   0,   0,   0,   1,   0,   0,   3,   0],\n",
       "       [  0,   0,  18,   0,   0,   0,   1,   0,   0,   0,   0,   0,  88,\n",
       "          0,   5,   0,   0,   0,   0,   0,   1,   0,   0,  10,   0],\n",
       "       [  0,   0,  25,   0,  12,   0,   4,   0,   0,   0,  18,   2,   0,\n",
       "        312,   0,   0,   0,   0,   0,   0,   1,   0,   1,  19,   0],\n",
       "       [  0,   0,  86,   0,   0,   0,   9,   1,   0,   0,   0,   1,   0,\n",
       "          0, 131,   0,   0,   0,   0,   0,   0,   0,   0,   1,   0],\n",
       "       [  0,   0,  11,   0,   0,   0,   1,   0,   0,   0,   0,   0,   0,\n",
       "          4,   0, 101,   0,   0,   0,   0,   1,   0,   0,   5,   2],\n",
       "       [  0,   0,   2,   0,   0,   0,  15,   0,   0,   0,   0,   0,   0,\n",
       "          0,   0,   0,  50,   0,   0,   0,  11,   0,   0,   1,   0],\n",
       "       [  0,   0,   0,   0,   0,   0,   0,   0,   0,   0,   0,   0,   0,\n",
       "          0,   0,   0,   0,   0,   0,   0,   6,   0,   0,   0,   0],\n",
       "       [  0,   0,   0,   0,   0,   0,   0,   0,   0,   0,   0,   0,   0,\n",
       "          0,   0,   0,   0,   0,   0,   0,   2,   0,   0,   0,   0],\n",
       "       [  0,   0,   0,   0,   0,   0,   1,   0,   0,   9,   0,   0,   0,\n",
       "          0,   0,   0,   0,   0,   0,   0,   5,   0,   0,   0,   0],\n",
       "       [  5,   0,   6,   0,   0,   0,  17,   0,   0,   0,   0,   0,   0,\n",
       "          3,   1,   0,   0,   0,   0,   0, 177,   0,   0,   7,   0],\n",
       "       [  0,   0,   0,   0,   0,   0,   0,   0,   0,   0,   0,   0,   0,\n",
       "          0,   0,   0,   0,   0,   0,   0,   1,   0,   0,   0,   0],\n",
       "       [  0,   0,   0,   0,   1,   0,   2,   0,  19,   0,   0,   0,   0,\n",
       "          0,   0,   0,   0,   0,   0,   0,   1,   0, 171, 123,   0],\n",
       "       [  1,   0,   0,   0,   0,   0,   1,   0,   8,   0,   0,   0,   0,\n",
       "          4,   0,   0,   0,   0,   0,   0,   0,   0,  20, 360,   0],\n",
       "       [  0,   0,  12,   0,   0,   0,  13,   0,   0,   0,   0,   0,   0,\n",
       "         15,   0,   1,   0,   0,   0,   0,  17,   0,   0,   9,  95]],\n",
       "      dtype=int64)"
      ]
     },
     "execution_count": 72,
     "metadata": {},
     "output_type": "execute_result"
    }
   ],
   "source": [
    "#it shows that the accuracy score of our model is 0.7237 or 72.37%. \n",
    "#Confusion Matrix is also another way to evaluate the prediction output of a classifier and also to determine the false positive\n",
    "#and false negative, sensitivity, specificity, precision and recall metrics\n",
    "print(\"Confusion Matrix of Bernoulli Naive Bayes Classifier output: \")\n",
    "sklearn.metrics.confusion_matrix(labels_test,bnb_predictions)\n",
    "#the values on the diagonal show correct predictions where as off-diagonal represent the records that have been misclassified."
   ]
  },
  {
   "cell_type": "code",
   "execution_count": 73,
   "metadata": {},
   "outputs": [],
   "source": [
    "# Multinomial Naive Bayes"
   ]
  },
  {
   "cell_type": "code",
   "execution_count": 74,
   "metadata": {},
   "outputs": [],
   "source": [
    "from sklearn.naive_bayes import MultinomialNB\n",
    "mn_bayes=MultinomialNB()\n",
    "t0=time()\n",
    "mn_bayes_fit=mn_bayes.fit(variables_train,labels_train)\n",
    "training_time_container['mn_naive_bayes']=time()-t0\n",
    "t0=time()\n",
    "prediction_mn=mn_bayes_fit.predict(variables_test)\n",
    "prediction_time_container['mn_naive_bayes']=time()-t0\n",
    "mn_ascore=sklearn.metrics.accuracy_score(labels_test, prediction_mn) \n",
    "accuracy_container['mn_naive_bayes']=mn_ascore"
   ]
  },
  {
   "cell_type": "code",
   "execution_count": 75,
   "metadata": {},
   "outputs": [
    {
     "name": "stdout",
     "output_type": "stream",
     "text": [
      "Accuracy Score of Multi-Nomial Naive Bayes: 0.562712\n",
      "Training Time: 36.050353s\n",
      "Prediction Time: 17.513589s\n"
     ]
    }
   ],
   "source": [
    "print(\"Accuracy Score of Multi-Nomial Naive Bayes: %f\" %(mn_ascore))\n",
    "print(\"Training Time: %fs\"%training_time_container['mn_naive_bayes'])\n",
    "print(\"Prediction Time: %fs\"%prediction_time_container['mn_naive_bayes'])"
   ]
  },
  {
   "cell_type": "code",
   "execution_count": 76,
   "metadata": {},
   "outputs": [],
   "source": [
    "# Random Forest Classifier"
   ]
  },
  {
   "cell_type": "code",
   "execution_count": 77,
   "metadata": {},
   "outputs": [
    {
     "name": "stdout",
     "output_type": "stream",
     "text": [
      "Training Time: 142.895832s\n",
      "Prediction Time: 2.929484s\n",
      "Accuracy Score of Random Forests Classifier: \n",
      "0.9031779661016949\n",
      "[[140   0   1   0   1   0   2   0   0   0   0   0   0   5   0   0   0   0\n",
      "    0   0   7   0   0   0   0]\n",
      " [  0   8   0   0   0   0   9   0   0   1   0   0   0   0   0   0   0   0\n",
      "    0   0   6   0   0   0   0]\n",
      " [  0   0 621   0   1   0   3   8   0   0   0   0   1   1   1   0   0   0\n",
      "    0   0   0   0   0   1   0]\n",
      " [  0   1   0   0   0   0   0   0   0   0   0   0   0   1   0   0   0   0\n",
      "    0   0   1   0   0   0   0]\n",
      " [  0   0   2   0 259   0   3   0  22   0   3   0   0   6   0   0   0   0\n",
      "    0   0   0   0   0   1   0]\n",
      " [  0   0   2   0   0  22   4   0   0   0   0   0   0   0   1   0   0   0\n",
      "    0   0   0   0   0   3   0]\n",
      " [  0   0   2   0   0   0 480   0   0   0   0   3   0   1   0   0   0   0\n",
      "    0   0   1   0   0   0   0]\n",
      " [  1   0 110   0   0   0   1 118   0   0   0   0   0   2   0   0   0   0\n",
      "    0   0   0   0   0   0   0]\n",
      " [  0   0   1   0   5   0   0   0 205   0   0   0   1   1   0   0   0   0\n",
      "    0   0   0   0   9   6   0]\n",
      " [  1   0   0   0   0   0  25   0   0 108   0   0   0   0   0   0   0   0\n",
      "    0   0  27   0   0   0   0]\n",
      " [  0   0   0   0   2   0   0   0   0   0 169   0   0   1   0   0   0   0\n",
      "    0   0   0   0   0   0   0]\n",
      " [  0   0   0   0   0   0   0   0   0   0   0 229   0   0   0   0   0   0\n",
      "    0   0   0   0   0   0   0]\n",
      " [  0   0   0   0   0   0   0   0   0   0   0   0 123   0   0   0   0   0\n",
      "    0   0   0   0   0   0   0]\n",
      " [  0   0   3   0   2   0   2   0   0   0   0   2   0 384   0   0   0   0\n",
      "    0   0   1   0   0   0   0]\n",
      " [  0   0  18   0   0   0   2   0   0   0   1   1   0   0 207   0   0   0\n",
      "    0   0   0   0   0   0   0]\n",
      " [  0   0   0   0   0   0   0   0   0   0   0   0   0   0   0 125   0   0\n",
      "    0   0   0   0   0   0   0]\n",
      " [  0   0   0   0   0   0   1   0   0   0   0   1   0   0   1   0  75   0\n",
      "    0   0   1   0   0   0   0]\n",
      " [  0   0   0   0   0   0   0   0   0   0   0   0   0   0   0   0   0   6\n",
      "    0   0   0   0   0   0   0]\n",
      " [  0   0   0   0   0   0   0   0   0   0   0   0   0   0   0   0   0   0\n",
      "    2   0   0   0   0   0   0]\n",
      " [  1   0   0   0   0   0   0   0   0   1   0   0   0   0   0   0   0   0\n",
      "    0  12   1   0   0   0   0]\n",
      " [  5   0   1   0   1   0   8   0   0   7   0   0   0   0   0   0   0   0\n",
      "    0   0 194   0   0   0   0]\n",
      " [  0   0   0   0   0   0   0   0   0   0   0   0   0   0   0   0   0   0\n",
      "    0   0   0   1   0   0   0]\n",
      " [  0   0   1   0   1   0   1   0   5   0   0   1   0   1   0   0   0   0\n",
      "    0   0   0   0 249  58   0]\n",
      " [  1   0   0   0   0   0   0   0   2   0   0   0   0   1   0   0   0   0\n",
      "    0   0   0   0  18 372   0]\n",
      " [  1   0   0   0   0   0   0   0   1   0   0   0   0   2   0   2   0   0\n",
      "    0   0   2   0   0   0 154]]\n"
     ]
    }
   ],
   "source": [
    "from sklearn.ensemble import RandomForestClassifier\n",
    "\n",
    "rf_classifier=RandomForestClassifier(n_estimators=50)\n",
    "t0=time()\n",
    "rf_classifier=rf_classifier.fit(variables_train,labels_train)\n",
    "\n",
    "training_time_container['random_forest']=time()-t0\n",
    "print(\"Training Time: %fs\"%training_time_container['random_forest'])\n",
    "\n",
    "t0=time()\n",
    "rf_predictions=rf_classifier.predict(variables_test)\n",
    "prediction_time_container['random_forest']=time()-t0\n",
    "print(\"Prediction Time: %fs\"%prediction_time_container['random_forest'])\n",
    "\n",
    "accuracy_container['random_forest']=sklearn.metrics.accuracy_score(labels_test, rf_predictions)\n",
    "print (\"Accuracy Score of Random Forests Classifier: \")\n",
    "print(accuracy_container['random_forest'])\n",
    "print(sklearn.metrics.confusion_matrix(labels_test,rf_predictions))"
   ]
  },
  {
   "cell_type": "code",
   "execution_count": 78,
   "metadata": {},
   "outputs": [],
   "source": [
    "# Linear SVM using Stochastic Gradient Descent"
   ]
  },
  {
   "cell_type": "code",
   "execution_count": 79,
   "metadata": {},
   "outputs": [
    {
     "name": "stdout",
     "output_type": "stream",
     "text": [
      "Training Time: 409.175857s\n",
      "Prediction Time: 24.615827s\n",
      "Accuracy Score of Linear SVM Classifier: 0.954873\n",
      "[[141   0   0   0   1   0   3   0   0   0   0   0   0   1   0   1   0   0\n",
      "    0   0   9   0   0   0   0]\n",
      " [  2   5   0   0   0   0   6   0   0   2   0   0   0   0   0   0   0   0\n",
      "    0   0   8   0   0   1   0]\n",
      " [  0   0 622   0   0   0   2   9   0   0   0   0   0   0   3   0   0   0\n",
      "    0   0   0   0   0   1   0]\n",
      " [  0   2   0   0   0   0   0   0   0   0   0   0   0   1   0   0   0   0\n",
      "    0   0   0   0   0   0   0]\n",
      " [  0   0   1   0 279   0   2   0   8   0   2   0   0   2   0   0   0   0\n",
      "    0   0   2   0   0   0   0]\n",
      " [  0   0   0   0   0  31   1   0   0   0   0   0   0   0   0   0   0   0\n",
      "    0   0   0   0   0   0   0]\n",
      " [  0   0   0   0   0   0 485   0   0   1   0   0   0   0   0   0   0   0\n",
      "    0   0   0   0   0   1   0]\n",
      " [  0   0  26   0   0   0   1 203   0   0   0   0   0   1   0   0   0   0\n",
      "    0   0   0   0   0   1   0]\n",
      " [  0   0   0   0   2   0   1   0 221   0   0   0   0   1   0   0   0   0\n",
      "    0   0   0   0   0   3   0]\n",
      " [  1   0   0   0   0   0   7   0   0 144   0   0   0   0   0   0   0   0\n",
      "    0   1   8   0   0   0   0]\n",
      " [  0   0   0   0   0   0   0   0   0   0 172   0   0   0   0   0   0   0\n",
      "    0   0   0   0   0   0   0]\n",
      " [  0   0   0   0   0   0   0   0   0   0   0 229   0   0   0   0   0   0\n",
      "    0   0   0   0   0   0   0]\n",
      " [  0   0   0   0   0   0   0   0   0   0   0   0 123   0   0   0   0   0\n",
      "    0   0   0   0   0   0   0]\n",
      " [  0   0   1   0   4   0   0   1   0   0   0   2   0 385   0   0   0   0\n",
      "    0   0   1   0   0   0   0]\n",
      " [  0   0   3   0   0   0   1   1   0   0   0   0   0   0 222   1   1   0\n",
      "    0   0   0   0   0   0   0]\n",
      " [  0   0   1   0   0   0   0   0   0   0   0   0   0   0   0 124   0   0\n",
      "    0   0   0   0   0   0   0]\n",
      " [  0   0   0   0   0   0   0   0   0   0   0   0   0   0   0   0  77   0\n",
      "    0   0   2   0   0   0   0]\n",
      " [  0   0   0   0   0   0   0   0   0   0   0   0   0   0   0   0   0   6\n",
      "    0   0   0   0   0   0   0]\n",
      " [  0   0   0   0   0   0   0   0   0   0   0   0   0   0   0   0   0   0\n",
      "    2   0   0   0   0   0   0]\n",
      " [  0   0   0   0   0   0   0   0   0   0   0   0   0   0   0   0   0   0\n",
      "    0  14   1   0   0   0   0]\n",
      " [  2   0   1   0   1   0   5   0   0   6   0   0   0   0   0   0   0   0\n",
      "    0   0 201   0   0   0   0]\n",
      " [  0   0   0   0   0   0   0   0   0   0   0   0   0   0   0   0   0   0\n",
      "    0   0   1   0   0   0   0]\n",
      " [  0   0   1   0   1   0   0   0   6   0   0   1   1   1   0   1   0   0\n",
      "    0   0   1   0 278  26   0]\n",
      " [  0   0   1   0   0   0   2   0   2   1   0   0   0   0   0   0   0   0\n",
      "    0   0   0   0   4 384   0]\n",
      " [  0   0   0   0   0   0   1   0   1   0   0   0   0   0   0   0   0   0\n",
      "    0   0   1   0   0   0 159]]\n"
     ]
    }
   ],
   "source": [
    "from sklearn import linear_model\n",
    "\n",
    "svm_classifier=linear_model.SGDClassifier(loss='hinge',alpha=0.0001)\n",
    "\n",
    "t0=time()\n",
    "svm_classifier=svm_classifier.fit(variables_train, labels_train)\n",
    "training_time_container['linear_svm']=time()-t0\n",
    "print(\"Training Time: %fs\"%training_time_container['linear_svm'])\n",
    "\n",
    "t0=time()\n",
    "svm_predictions=svm_classifier.predict(variables_test)\n",
    "prediction_time_container['linear_svm']=time()-t0\n",
    "print(\"Prediction Time: %fs\"%prediction_time_container['linear_svm'])\n",
    "\n",
    "accuracy_container['linear_svm']=sklearn.metrics.accuracy_score(labels_test, svm_predictions)\n",
    "print (\"Accuracy Score of Linear SVM Classifier: %f\"%accuracy_container['linear_svm'])\n",
    "print(sklearn.metrics.confusion_matrix(labels_test,svm_predictions))"
   ]
  },
  {
   "cell_type": "code",
   "execution_count": 80,
   "metadata": {},
   "outputs": [],
   "source": [
    "#if we train the SGD Classifier with elastic net penalty, it  brings more sparsity to the model not possible with the L2:\n",
    "svm_classifier_enet=linear_model.SGDClassifier(loss='hinge',alpha=0.0001,penalty='elasticnet')\n",
    "svm_classifier_enet=svm_classifier_enet.fit(variables_train, labels_train)"
   ]
  },
  {
   "cell_type": "code",
   "execution_count": 81,
   "metadata": {},
   "outputs": [],
   "source": [
    "svm_enet_predictions=svm_classifier_enet.predict(variables_test)"
   ]
  },
  {
   "cell_type": "code",
   "execution_count": 82,
   "metadata": {},
   "outputs": [
    {
     "name": "stdout",
     "output_type": "stream",
     "text": [
      "Accuracy Score of Linear SVM Classifier: 0.957203\n"
     ]
    }
   ],
   "source": [
    "print (\"Accuracy Score of Linear SVM Classifier: %f\"%sklearn.metrics.accuracy_score(labels_test,svm_enet_predictions))"
   ]
  },
  {
   "cell_type": "code",
   "execution_count": 83,
   "metadata": {},
   "outputs": [],
   "source": [
    "%matplotlib inline\n",
    "ytrainlab=[]\n",
    "for val in training_time_container.values():\n",
    "    ytrainlab.append(val)\n",
    "xtrainlab=[]\n",
    "for key in training_time_container.keys():\n",
    "    xtrainlab.append(key)"
   ]
  },
  {
   "cell_type": "code",
   "execution_count": 84,
   "metadata": {},
   "outputs": [
    {
     "data": {
      "image/png": "[encoded data removed]",
      "text/plain": [
       "<Figure size 1152x504 with 1 Axes>"
      ]
     },
     "metadata": {
      "needs_background": "light"
     },
     "output_type": "display_data"
    }
   ],
   "source": [
    "    plt.figure(figsize=(16,7))\n",
    "    plt.style.use(\"seaborn\")\n",
    "    ytrainpos=np.arange(len(xtrainlab))\n",
    "    plt.xticks(ytrainpos,xtrainlab,rotation=90)\n",
    "    plt.ylabel(\"Training time in seconds\")\n",
    "    plt.xlabel(\"Different Classifiers\")\n",
    "    plt.title(\"Comparison of Training Time of different classifiers\")\n",
    "    plt.bar(ytrainpos,ytrainlab,width=0.5,color='navy')\n",
    "    plt.show()"
   ]
  },
  {
   "cell_type": "code",
   "execution_count": 85,
   "metadata": {},
   "outputs": [],
   "source": [
    "ypredlab=[]\n",
    "for val in prediction_time_container.values():\n",
    "    ypredlab.append(val)\n",
    "xpredlab=[]\n",
    "for key in prediction_time_container.keys():\n",
    "    xpredlab.append(key)"
   ]
  },
  {
   "cell_type": "code",
   "execution_count": 86,
   "metadata": {},
   "outputs": [
    {
     "data": {
      "image/png": "[encoded data removed]",
      "text/plain": [
       "<Figure size 1152x504 with 1 Axes>"
      ]
     },
     "metadata": {},
     "output_type": "display_data"
    }
   ],
   "source": [
    "plt.figure(figsize=(16,7))\n",
    "plt.style.use(\"seaborn\")\n",
    "ypredpos=np.arange(len(xpredlab))\n",
    "plt.xticks(ypredpos,xpredlab,rotation=90)\n",
    "plt.ylabel(\"Prediction time in seconds\")\n",
    "plt.title(\"Comparison of Prediction Time of different classifiers\")\n",
    "plt.bar(ypredpos,ypredlab,width=0.5,color=\"orange\",edgecolor='black',linewidth=1.5)\n",
    "plt.xlabel(\"Different Classifiers\")\n",
    "plt.show()"
   ]
  },
  {
   "cell_type": "code",
   "execution_count": 87,
   "metadata": {},
   "outputs": [],
   "source": [
    "yacclab=[]\n",
    "for val in accuracy_container.values():\n",
    "    yacclab.append(val)\n",
    "xacclab=[]\n",
    "for key in accuracy_container.keys():\n",
    "    xacclab.append(key)"
   ]
  },
  {
   "cell_type": "code",
   "execution_count": 88,
   "metadata": {},
   "outputs": [
    {
     "data": {
      "image/png": "[encoded data removed]",
      "text/plain": [
       "<Figure size 1152x504 with 1 Axes>"
      ]
     },
     "metadata": {},
     "output_type": "display_data"
    }
   ],
   "source": [
    "plt.figure(figsize=(16,7))\n",
    "plt.style.use(\"seaborn\")\n",
    "yaccpos=np.arange(len(xacclab))\n",
    "plt.xticks(yaccpos,xacclab,rotation=90)\n",
    "plt.ylabel(\"Accuracy Scores\")\n",
    "plt.ylim(0,1.0)\n",
    "plt.title(\"Comparison of Accuracy Scores of different classifiers\")\n",
    "plt.xlabel(\"Different Classifiers\")\n",
    "plt.bar(yaccpos,yacclab,width=0.5,color=\"green\",edgecolor='black',linewidth=1.5)\n",
    "plt.show()"
   ]
  },
  {
   "cell_type": "code",
   "execution_count": 89,
   "metadata": {},
   "outputs": [],
   "source": [
    "# Applying Chi-Square Feature Selection\n",
    "# currently we have used all the features from TFIDF matrix but we can reduce them using chi-square selection"
   ]
  },
  {
   "cell_type": "code",
   "execution_count": 90,
   "metadata": {},
   "outputs": [],
   "source": [
    "from sklearn.feature_selection import SelectKBest\n",
    "from sklearn.feature_selection import chi2\n",
    "X_new=SelectKBest(chi2,k=5000).fit_transform(variables,labels)"
   ]
  },
  {
   "cell_type": "code",
   "execution_count": 91,
   "metadata": {},
   "outputs": [],
   "source": [
    "#splititng the data into training and test data-set again:\n",
    "cvariables_train,cvariables_test,clabels_train,clabels_test=train_test_split(X_new,labels,test_size=.2)"
   ]
  },
  {
   "cell_type": "code",
   "execution_count": 92,
   "metadata": {},
   "outputs": [
    {
     "data": {
      "text/plain": [
       "array([[173,   0,   0,   0,   0,   0,   1,   0,   1,   2,   0,   0,   0,\n",
       "          0,   0,   0,   0,   0,   0,   0,   0,   6,   0,   0,   0,   0],\n",
       "       [  3,   4,   1,   0,   0,   0,   1,   0,   0,   0,   0,   0,   0,\n",
       "          0,   0,   0,   0,   0,   0,   0,   0,   5,   0,   0,   0,   0],\n",
       "       [  1,   0, 584,   0,   0,   0,   2,  16,   1,   1,   0,   0,   0,\n",
       "          0,   2,   4,   0,   0,   0,   0,   0,   0,   0,   0,   2,   0],\n",
       "       [  1,   0,   0,   0,   0,   0,   0,   0,   0,   0,   0,   0,   0,\n",
       "          0,   0,   0,   0,   0,   0,   0,   0,   0,   0,   0,   0,   0],\n",
       "       [  0,   0,   0,   0, 298,   0,   0,   0,  10,   0,   0,   0,   0,\n",
       "          0,   3,   0,   0,   0,   0,   0,   0,   0,   0,   1,   0,   2],\n",
       "       [  0,   0,   0,   0,   0,  18,   1,   0,   0,   0,   0,   0,   0,\n",
       "          0,   0,   0,   0,   0,   0,   0,   0,   0,   0,   0,   0,   0],\n",
       "       [  1,   0,   1,   0,   0,   0, 498,   0,   0,   2,   0,   0,   0,\n",
       "          0,   0,   3,   1,   0,   0,   0,   0,   2,   0,   0,   1,   0],\n",
       "       [  1,   0,  23,   0,   0,   0,   0, 209,   0,   0,   0,   0,   0,\n",
       "          0,   0,   0,   0,   0,   0,   0,   0,   0,   0,   0,   1,   0],\n",
       "       [  0,   0,   1,   0,   0,   0,   0,   0, 233,   0,   0,   0,   0,\n",
       "          0,   1,   0,   0,   0,   0,   0,   0,   0,   0,   2,   1,   0],\n",
       "       [  3,   0,   0,   0,   0,   0,   3,   0,   0, 132,   0,   0,   0,\n",
       "          0,   0,   0,   0,   0,   0,   0,   0,   3,   0,   0,   0,   0],\n",
       "       [  0,   0,   0,   0,   0,   0,   0,   0,   0,   0,   2,   0,   0,\n",
       "          0,   0,   0,   0,   0,   0,   0,   0,   0,   0,   0,   0,   0],\n",
       "       [  0,   0,   0,   0,   0,   0,   0,   0,   0,   0,   0, 191,   0,\n",
       "          0,   0,   0,   0,   0,   0,   0,   0,   0,   0,   0,   0,   0],\n",
       "       [  0,   0,   0,   0,   0,   0,   0,   0,   0,   0,   0,   0, 240,\n",
       "          0,   0,   1,   0,   0,   0,   0,   0,   0,   0,   0,   0,   0],\n",
       "       [  0,   0,   0,   0,   0,   0,   0,   0,   0,   0,   0,   0,   0,\n",
       "        118,   0,   0,   0,   0,   0,   0,   0,   0,   0,   0,   0,   0],\n",
       "       [  0,   0,   0,   0,   5,   0,   1,   0,   2,   1,   0,   0,   0,\n",
       "          0, 381,   0,   1,   0,   0,   0,   0,   0,   0,   0,   0,   0],\n",
       "       [  0,   0,   1,   0,   0,   0,   0,   0,   0,   0,   0,   0,   0,\n",
       "          0,   0, 207,   0,   0,   0,   0,   0,   0,   0,   0,   0,   0],\n",
       "       [  0,   0,   0,   0,   0,   0,   0,   0,   0,   0,   0,   0,   0,\n",
       "          0,   0,   0, 134,   0,   0,   0,   0,   0,   0,   0,   0,   0],\n",
       "       [  0,   0,   0,   0,   0,   0,   1,   0,   0,   0,   0,   0,   0,\n",
       "          0,   0,   0,   0,  80,   0,   0,   0,   0,   0,   0,   0,   2],\n",
       "       [  0,   0,   0,   0,   0,   0,   0,   0,   0,   0,   0,   0,   0,\n",
       "          0,   0,   0,   0,   0,   2,   0,   0,   0,   0,   0,   0,   0],\n",
       "       [  0,   0,   0,   0,   0,   0,   0,   0,   0,   0,   0,   0,   0,\n",
       "          0,   0,   0,   0,   0,   0,   3,   0,   0,   0,   0,   0,   0],\n",
       "       [  1,   0,   0,   0,   0,   0,   0,   0,   0,   0,   0,   0,   0,\n",
       "          0,   0,   0,   0,   0,   0,   0,  13,   1,   0,   0,   0,   0],\n",
       "       [  9,   1,   0,   0,   0,   0,   4,   0,   1,   5,   0,   0,   0,\n",
       "          0,   0,   0,   0,   0,   0,   0,   0, 204,   0,   0,   0,   0],\n",
       "       [  1,   0,   0,   0,   0,   0,   0,   0,   0,   0,   0,   0,   0,\n",
       "          0,   0,   0,   0,   0,   0,   0,   0,   0,   0,   0,   0,   0],\n",
       "       [  0,   0,   1,   0,   0,   0,   0,   0,   5,   0,   0,   0,   0,\n",
       "          0,   0,   0,   0,   0,   0,   0,   0,   0,   0, 280,   4,   0],\n",
       "       [  1,   0,   1,   0,   0,   0,   0,   0,   5,   0,   0,   0,   0,\n",
       "          0,   0,   0,   0,   0,   0,   0,   0,   0,   0,   4, 388,   0],\n",
       "       [  0,   0,   0,   0,   0,   0,   0,   0,   3,   0,   0,   0,   0,\n",
       "          0,   0,   0,   0,   0,   0,   0,   0,   0,   0,   0,   0, 149]],\n",
       "      dtype=int64)"
      ]
     },
     "execution_count": 92,
     "metadata": {},
     "output_type": "execute_result"
    }
   ],
   "source": [
    "#now use these features to train the linear SVM Classifier and see what results do you get:\n",
    "svm_classifier2=linear_model.SGDClassifier(alpha=0.0001,penalty='elasticnet',max_iter=50)\n",
    "svm_classifier_f2=svm_classifier2.fit(cvariables_train, clabels_train)\n",
    "predictions_svm2=svm_classifier_f2.predict(cvariables_test)\n",
    "\n",
    "sklearn.metrics.confusion_matrix(clabels_test,predictions_svm2)"
   ]
  },
  {
   "cell_type": "code",
   "execution_count": 93,
   "metadata": {},
   "outputs": [
    {
     "data": {
      "text/plain": [
       "0.9620762711864407"
      ]
     },
     "execution_count": 93,
     "metadata": {},
     "output_type": "execute_result"
    }
   ],
   "source": [
    "sklearn.metrics.accuracy_score(clabels_test,predictions_svm2)"
   ]
  },
  {
   "cell_type": "code",
   "execution_count": null,
   "metadata": {},
   "outputs": [],
   "source": []
  },
  {
   "cell_type": "code",
   "execution_count": null,
   "metadata": {},
   "outputs": [],
   "source": []
  }
 ],
 "metadata": {
  "kernelspec": {
   "display_name": "Python 3",
   "language": "python",
   "name": "python3"
  },
  "language_info": {
   "codemirror_mode": {
    "name": "ipython",
    "version": 3
   },
   "file_extension": ".py",
   "mimetype": "text/x-python",
   "name": "python",
   "nbconvert_exporter": "python",
   "pygments_lexer": "ipython3",
   "version": "3.7.4"
  }
 },
 "nbformat": 4,
 "nbformat_minor": 2
}
